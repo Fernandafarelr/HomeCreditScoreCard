{
  "nbformat": 4,
  "nbformat_minor": 0,
  "metadata": {
    "colab": {
      "private_outputs": true,
      "provenance": [],
      "gpuType": "T4"
    },
    "kernelspec": {
      "name": "python3",
      "display_name": "Python 3"
    },
    "language_info": {
      "name": "python"
    }
  },
  "cells": [
    {
      "cell_type": "markdown",
      "source": [
        "Fernanda Farel R\n",
        "HCK-005"
      ],
      "metadata": {
        "id": "cunwscTK95vZ"
      }
    },
    {
      "cell_type": "markdown",
      "source": [
        "# Home Credit Score Card\n"
      ],
      "metadata": {
        "id": "WizEBrDrIyK2"
      }
    },
    {
      "cell_type": "markdown",
      "source": [
        "## Problem"
      ],
      "metadata": {
        "id": "M_5telGbgs0B"
      }
    },
    {
      "cell_type": "markdown",
      "source": [
        "Home Credit Indonesia wants to create Machine Learning model to help the marketing team determine whether the proposed loan is accepted or gottin rejected. Then after analyze several a data, the team wants to find out what customer behaviour that often make a loans are accepted to determine the next trends."
      ],
      "metadata": {
        "id": "Eby5UTaStmdt"
      }
    },
    {
      "cell_type": "code",
      "source": [
        "pip install feature_engine\n"
      ],
      "metadata": {
        "id": "I0e7qnAmtOjS"
      },
      "execution_count": null,
      "outputs": []
    },
    {
      "cell_type": "code",
      "execution_count": null,
      "metadata": {
        "id": "XF63lg8S9ppI"
      },
      "outputs": [],
      "source": [
        "import pandas as pd\n",
        "import numpy as np\n",
        "import matplotlib.pyplot as plt\n",
        "import seaborn as sns\n",
        "from scipy import stats\n",
        "\n",
        "# Preprocessing\n",
        "from sklearn.model_selection import train_test_split\n",
        "from sklearn import preprocessing\n",
        "from feature_engine.outliers import Winsorizer\n",
        "\n",
        "# Evaluation\n",
        "from sklearn.metrics import mean_absolute_error, mean_squared_error, mean_absolute_percentage_error, r2_score\n",
        "\n",
        "# Display\n",
        "from sklearn.metrics import confusion_matrix, classification_report, precision_score, recall_score, accuracy_score, f1_score, ConfusionMatrixDisplay\n",
        "from sklearn.pipeline import Pipeline\n",
        "\n",
        "# model\n",
        "from sklearn.metrics import classification_report\n",
        "from sklearn.compose import ColumnTransformer\n",
        "from sklearn.linear_model import LogisticRegression\n",
        "import xgboost as xgb\n",
        "from sklearn.ensemble import RandomForestClassifier\n",
        "from imblearn.over_sampling import SMOTE\n",
        "from imblearn.under_sampling import RandomUnderSampler\n"
      ]
    },
    {
      "cell_type": "code",
      "source": [
        "df = pd.read_csv('application_train.csv')\n",
        "df.head(10)"
      ],
      "metadata": {
        "id": "FV1u_17T-smL"
      },
      "execution_count": null,
      "outputs": []
    },
    {
      "cell_type": "markdown",
      "source": [
        "Getting insight from the data"
      ],
      "metadata": {
        "id": "GTBPftuJeVzv"
      }
    },
    {
      "cell_type": "markdown",
      "source": [
        "The number of customer who apply for loans"
      ],
      "metadata": {
        "id": "zd0adeWeeadM"
      }
    },
    {
      "cell_type": "code",
      "source": [
        "num1 = df.groupby('TARGET')['CODE_GENDER'].count().reset_index()\n",
        "num1.rename(columns = {'CODE_GENDER' : 'Customers'}, inplace=True)\n",
        "\n",
        "num1['C_percentage'] = round(num1.Customers / num1.Customers.sum(), 2)\n",
        "num1\n"
      ],
      "metadata": {
        "id": "F3LRpsDWhOwV"
      },
      "execution_count": null,
      "outputs": []
    },
    {
      "cell_type": "markdown",
      "source": [
        "From the table above, there is 92% did not have any issues in repaying the loan in given the time and 8% was have a issues. So lets take a look into the criteria whether the customer not have any issues in repaying the loan"
      ],
      "metadata": {
        "id": "PhjCHJj-gRd3"
      }
    },
    {
      "cell_type": "markdown",
      "source": [
        "# Marital Status"
      ],
      "metadata": {
        "id": "J_uipJxBhw-9"
      }
    },
    {
      "cell_type": "code",
      "source": [
        "df.NAME_FAMILY_STATUS.value_counts()"
      ],
      "metadata": {
        "id": "TV31R7w5hXA2"
      },
      "execution_count": null,
      "outputs": []
    },
    {
      "cell_type": "markdown",
      "source": [
        "there is 6 marital category, lets make it simple into just 2 categories, namely married and single\n",
        "\n",
        "- Married = people who's not single\n",
        "- Single = people who's not married"
      ],
      "metadata": {
        "id": "-9h84772iBXL"
      }
    },
    {
      "cell_type": "code",
      "source": [
        "Marital_status = []\n",
        "married = ['Married', 'Civil_marriage']\n",
        "\n",
        "for i in df.NAME_FAMILY_STATUS:\n",
        "  if i in married:\n",
        "    Marital_status.append('Married')\n",
        "  else:\n",
        "    Marital_status.append('Single')\n",
        "\n",
        "df['Marital_status'] = Marital_status\n",
        "df.drop(columns='NAME_FAMILY_STATUS', inplace=True)"
      ],
      "metadata": {
        "id": "p7oRwWdhh-aL"
      },
      "execution_count": null,
      "outputs": []
    },
    {
      "cell_type": "code",
      "source": [
        "ms = df[df['TARGET'] == 0].groupby(['Marital_status'])['CODE_GENDER'].count().reset_index()\n",
        "ms.rename(columns = {'CODE_GENDER' : 'Customers'}, inplace=True)\n",
        "\n",
        "ms['C_percentage'] = round(num1.Customers / num1.Customers.sum(), 2)\n",
        "ms"
      ],
      "metadata": {
        "id": "LEFZTH0rjKfg"
      },
      "execution_count": null,
      "outputs": []
    },
    {
      "cell_type": "markdown",
      "source": [
        "56% from customer didn't have any issues to pay the loan is married category.\n",
        "\n"
      ],
      "metadata": {
        "id": "cdMl06CBkRrF"
      }
    },
    {
      "cell_type": "code",
      "source": [
        "ms1 = df[df['TARGET'] == 1].groupby(['Marital_status'])['CODE_GENDER'].count().reset_index()\n",
        "ms1.rename(columns = {'CODE_GENDER' : 'Customers'}, inplace=True)\n",
        "\n",
        "ms1['C_percentage'] = round(ms1.Customers / ms1.Customers.sum(), 2)\n",
        "ms1"
      ],
      "metadata": {
        "id": "IasbPfe-kJ1P"
      },
      "execution_count": null,
      "outputs": []
    },
    {
      "cell_type": "code",
      "source": [
        "ms2 = df[df['Marital_status'] == 'Single'].groupby(['TARGET', 'Marital_status'])['CODE_GENDER'].count().reset_index()\n",
        "ms2.rename(columns = {'CODE_GENDER' : 'Customers'}, inplace=True)\n",
        "\n",
        "ms2['C_percentage'] =  round(ms2.Customers / ms2.Customers.sum(), 2)\n",
        "ms2"
      ],
      "metadata": {
        "id": "gamgN157mo_1"
      },
      "execution_count": null,
      "outputs": []
    },
    {
      "cell_type": "code",
      "source": [
        "ms3 = df[df['Marital_status'] == 'Married'].groupby(['TARGET', 'Marital_status'])['CODE_GENDER'].count().reset_index()\n",
        "ms3.rename(columns = {'CODE_GENDER' : 'Customers'}, inplace=True)\n",
        "\n",
        "ms3['C_percentage'] = round(ms3.Customers / ms3.Customers.sum(), 2)\n",
        "ms3"
      ],
      "metadata": {
        "id": "4mU2jfK7niM3"
      },
      "execution_count": null,
      "outputs": []
    },
    {
      "cell_type": "markdown",
      "source": [
        "# Contract type"
      ],
      "metadata": {
        "id": "bxpRem5oo-b6"
      }
    },
    {
      "cell_type": "code",
      "source": [
        "ctype = df.groupby(['TARGET', 'NAME_CONTRACT_TYPE'])['CODE_GENDER'].count().reset_index().sort_values(by = 'NAME_CONTRACT_TYPE')\n",
        "ctype.rename(columns = {'CODE_GENDER' : 'Customers'}, inplace=True)\n",
        "\n",
        "name_of_ctype = list(ctype['NAME_CONTRACT_TYPE'].unique())\n",
        "percentage = []\n",
        "\n",
        "for i in name_of_ctype:\n",
        "  data = ctype[ctype['NAME_CONTRACT_TYPE'] == i]\n",
        "  total = data['Customers'].sum()\n",
        "  for x, y in enumerate(data['Customers']):\n",
        "    pct = round(y/total, 2)\n",
        "    percentage.append(pct)\n",
        "\n",
        "ctype['Percentage'] = percentage\n",
        "ctype"
      ],
      "metadata": {
        "id": "PEJNmQVNoyLV"
      },
      "execution_count": null,
      "outputs": []
    },
    {
      "cell_type": "markdown",
      "source": [
        "- Loan Distribution: Out of the total customers, 92% have cash loans, while only 8% have revolving loans.\n",
        "\n",
        "- Repayment Status: Among customers with cash loans, 92% have repaid the loan (TARGET=0), while 8% defaulted (TARGET=1). For customers with revolving loans, 95% have repaid, and 5% defaulted.\n",
        "\n",
        "- Loan Popularity: Cash loans appear to be more popular among customers, with a higher count and percentage compared to revolving loans."
      ],
      "metadata": {
        "id": "V4TEduFnrVbi"
      }
    },
    {
      "cell_type": "markdown",
      "source": [
        "# Occupation type"
      ],
      "metadata": {
        "id": "gMjRyG1Wrc8t"
      }
    },
    {
      "cell_type": "code",
      "source": [
        "octype = df.groupby(['TARGET', 'OCCUPATION_TYPE'])['CODE_GENDER'].count().reset_index().sort_values(by=['OCCUPATION_TYPE', 'TARGET'])\n",
        "octype.rename(columns = {'CODE_GENDER' : 'Customers'}, inplace=True)\n",
        "\n",
        "name_of_ot = list(octype['OCCUPATION_TYPE'].unique())\n",
        "percentage = []\n",
        "\n",
        "for i in name_of_ot:\n",
        "    data = octype[octype['OCCUPATION_TYPE'] == i]\n",
        "    total = data['Customers'].sum()\n",
        "    for x,y in enumerate(data['Customers']):\n",
        "        pct = round(y / total, 2)\n",
        "        percentage.append(pct)\n",
        "\n",
        "octype['percentage'] = percentage\n",
        "octype"
      ],
      "metadata": {
        "id": "u69LnbjfqYs3"
      },
      "execution_count": null,
      "outputs": []
    },
    {
      "cell_type": "markdown",
      "source": [
        "Based on these percentages, the occupation type with the highest percentage is \"Secretaries\" with a percentage of 0.97 for TARGET=0, indicating that 97% of secretaries have repaid their loans."
      ],
      "metadata": {
        "id": "swPMkW1VvKbF"
      }
    },
    {
      "cell_type": "code",
      "source": [
        "octype2 = octype[octype['OCCUPATION_TYPE'].isin(['Accountants', 'Core staff', 'Secretaries'])]\n",
        "octype2 = octype2.reset_index()\n",
        "octype2.drop(columns = 'index', inplace=True)\n",
        "\n",
        "mapping_target = {\n",
        "    1 : 'Have Issues',\n",
        "    0 : 'Dont Have Issues'\n",
        "}\n",
        "\n",
        "octype2['TARGET'] = octype2['TARGET'].map(mapping_target)\n",
        "\n",
        "\n",
        "ax = sns.barplot(x = 'OCCUPATION_TYPE', y= 'Customers', hue= 'TARGET', data = octype2)\n",
        "plt.xlabel('Job of Customer')\n",
        "plt.ylabel('Total Customer')\n",
        "plt.legend(title = 'Status', bbox_to_anchor = (1.45,1))\n",
        "\n",
        "for i, v in enumerate(octype2['Customers']):\n",
        "    if i%2 == 0:\n",
        "        plt.text(i/2 - 0.35, v + 100, s= str(octype2['percentage'][i]* 100) + '%', color='black', fontweight='bold')\n",
        "    else:\n",
        "        plt.text(i/2 - 0.45, v + 100, s= str(octype2['percentage'][i] * 100) + '%', color='black', fontweight='bold')\n",
        "\n",
        "plt.show(ax)"
      ],
      "metadata": {
        "id": "HidBGlOxtE-7"
      },
      "execution_count": null,
      "outputs": []
    },
    {
      "cell_type": "markdown",
      "source": [
        "# Age of the Customers"
      ],
      "metadata": {
        "id": "zDQit2UfxOQK"
      }
    },
    {
      "cell_type": "code",
      "source": [
        "df['Age'] = np.floor(df['DAYS_BIRTH'] / -365).astype(int)\n",
        "df.drop(columns= 'DAYS_BIRTH', inplace=True)"
      ],
      "metadata": {
        "id": "5ZE2V_xIxGIc"
      },
      "execution_count": null,
      "outputs": []
    },
    {
      "cell_type": "code",
      "source": [
        "age_cat = []\n",
        "for i in df['Age']:\n",
        "    if i < 36:\n",
        "        age_cat.append('Young Adult')\n",
        "    elif i < 51:\n",
        "        age_cat.append('Adult')\n",
        "    else:\n",
        "        age_cat.append('Older')\n",
        "\n",
        "df['Age_category'] = age_cat"
      ],
      "metadata": {
        "id": "OkYhxgyxzRrd"
      },
      "execution_count": null,
      "outputs": []
    },
    {
      "cell_type": "code",
      "source": [
        "g_age = df.groupby(['TARGET', 'Age_category'])['CODE_GENDER'].count().reset_index().sort_values('Age_category').reset_index()\n",
        "g_age.rename(columns = {'CODE_GENDER' : 'Customers'}, inplace=True)\n",
        "g_age.drop(columns = 'index', inplace=True)\n",
        "\n",
        "name_of_ot = list(g_age['Age_category'].unique())\n",
        "percentage = []\n",
        "\n",
        "for i in name_of_ot:\n",
        "    data = g_age[g_age['Age_category'] == i]\n",
        "    total = data['Customers'].sum()\n",
        "    for x,y in enumerate(data['Customers']):\n",
        "        pct = round(y / total, 2)\n",
        "        percentage.append(pct)\n",
        "\n",
        "g_age['percentage'] = percentage\n",
        "\n",
        "mapping_target = {\n",
        "    1 : 'Have Issues',\n",
        "    0 : 'Dont Have Issues'\n",
        "}\n",
        "\n",
        "g_age['TARGET'] = g_age['TARGET'].map(mapping_target)\n",
        "g_age"
      ],
      "metadata": {
        "id": "p9WQJpBpzUHK"
      },
      "execution_count": null,
      "outputs": []
    },
    {
      "cell_type": "code",
      "source": [
        "ax = sns.barplot(x = 'Age_category', y= 'Customers', hue= g_age.TARGET, data = g_age)\n",
        "plt.legend(title = 'Status', bbox_to_anchor = (1.45,1))\n",
        "\n",
        "for i, v in enumerate(g_age['Customers']):\n",
        "    if i%2 == 0:\n",
        "        plt.text(i/2 - 0.35, v/2, s= str(g_age['percentage'][i]* 100) + '%', color='black', fontweight='bold')\n",
        "    else:\n",
        "        plt.text(i/2 - 0.45, v + 2000, s= str(g_age['percentage'][i] * 100) + '%', color='black', fontweight='bold')\n",
        "\n",
        "plt.show(ax)"
      ],
      "metadata": {
        "id": "iTudw_auzdmb"
      },
      "execution_count": null,
      "outputs": []
    },
    {
      "cell_type": "code",
      "source": [
        "df.drop(columns = 'Age_category', inplace=True)"
      ],
      "metadata": {
        "id": "ONLvLJ3gznrY"
      },
      "execution_count": null,
      "outputs": []
    },
    {
      "cell_type": "code",
      "source": [
        "itype = df.groupby(['TARGET', 'NAME_INCOME_TYPE', 'NAME_CONTRACT_TYPE'])['CODE_GENDER'].count().reset_index().sort_values(['NAME_INCOME_TYPE', 'NAME_CONTRACT_TYPE']).reset_index()\n",
        "itype.rename(columns = {'CODE_GENDER' : 'Customers'}, inplace=True)\n",
        "itype.drop(columns = 'index', inplace=True)\n",
        "\n",
        "income_type   = list(itype['NAME_INCOME_TYPE'].unique())\n",
        "percentage  = []\n",
        "\n",
        "for i in income_type:\n",
        "    data = itype[itype.NAME_INCOME_TYPE == i]\n",
        "    contract_type = list(data['NAME_CONTRACT_TYPE'].unique())\n",
        "    for x in contract_type:\n",
        "        data2 = data[data.NAME_CONTRACT_TYPE == x]\n",
        "        total = data2['Customers'].sum()\n",
        "        for y,z in enumerate(data2['Customers']):\n",
        "            pct = round(z / total, 2)\n",
        "            percentage.append(pct)\n",
        "\n",
        "itype['percentage'] = percentage\n",
        "itype"
      ],
      "metadata": {
        "id": "ehe-CvpdzuEp"
      },
      "execution_count": null,
      "outputs": []
    },
    {
      "cell_type": "code",
      "source": [
        "itype_rl = itype[itype['NAME_CONTRACT_TYPE'] == 'Revolving loans'].reset_index()\n",
        "\n",
        "mapping_target = {\n",
        "    1 : 'Have Problem',\n",
        "    0 : 'Dont Have Problem'\n",
        "}\n",
        "\n",
        "itype_rl['TARGET'] = itype_rl['TARGET'].map(mapping_target)\n",
        "\n",
        "ax = sns.barplot(x = 'NAME_INCOME_TYPE', y= 'Customers', data = itype_rl, hue = 'TARGET')\n",
        "plt.title('Contract Type = Revolving Loans')\n",
        "plt.xticks(rotation=45)\n",
        "plt.legend(title = 'Status', bbox_to_anchor = (1.45,1))\n",
        "\n",
        "#for i, v in enumerate(itype_rl['Customers']):\n",
        " #   plt.text(i/2 - 0.2, v + 200, s= str(itype_rl['percentage'][i]* 100) + '%', color='black', fontweight='bold', fontsize = 8)\n",
        "i = 0\n",
        "itype_p = itype_rl.sort_values('TARGET').reset_index()\n",
        "for p in ax.patches:\n",
        "    widht, height = p.get_x(), p.get_height()\n",
        "    if np.isnan(height) == True:\n",
        "        continue\n",
        "    else:\n",
        "        plt.text(widht, height + 200, s = str(itype_p['percentage'][i]* 100) + '%' )\n",
        "        i = i +1\n",
        "\n",
        "plt.show()"
      ],
      "metadata": {
        "id": "exkosfvrz4jG"
      },
      "execution_count": null,
      "outputs": []
    },
    {
      "cell_type": "code",
      "source": [
        "itype_cl = itype[itype['NAME_CONTRACT_TYPE'] == 'Cash loans'].reset_index()\n",
        "\n",
        "mapping_target = {\n",
        "    1 : 'Have Issues',\n",
        "    0 : 'Dont Have Issues'\n",
        "}\n",
        "\n",
        "itype_cl['TARGET'] = itype_cl['TARGET'].map(mapping_target)\n",
        "\n",
        "ax = sns.barplot(x = 'NAME_INCOME_TYPE', y= 'Customers', data = itype_cl, hue = 'TARGET')\n",
        "plt.title('Contract Type = Cash Loans')\n",
        "plt.xticks(rotation=45)\n",
        "plt.legend(title = 'Status', bbox_to_anchor = (1.45,1))\n",
        "\n",
        "#for i, v in enumerate(itype_rl['Customers']):\n",
        " #   plt.text(i/2 - 0.2, v + 200, s= str(itype_rl['percentage'][i]* 100) + '%', color='black', fontweight='bold', fontsize = 8)\n",
        "i = 0\n",
        "itype_p2 = itype_cl.sort_values('TARGET').reset_index()\n",
        "for p in ax.patches:\n",
        "    widht, height = p.get_x(), p.get_height()\n",
        "    if np.isnan(height) == True:\n",
        "        continue\n",
        "    else:\n",
        "        plt.text(widht, height + 200, s = str(itype_p2['percentage'][i]* 100) + '%' )\n",
        "        i = i +1\n",
        "\n",
        "plt.show()\n"
      ],
      "metadata": {
        "id": "PSOndsvV0J3V"
      },
      "execution_count": null,
      "outputs": []
    },
    {
      "cell_type": "code",
      "source": [
        "itype_cl"
      ],
      "metadata": {
        "id": "CpNDdmKy0sVR"
      },
      "execution_count": null,
      "outputs": []
    },
    {
      "cell_type": "markdown",
      "source": [
        "# Data Cleaning"
      ],
      "metadata": {
        "id": "TzKT-8XV1FLE"
      }
    },
    {
      "cell_type": "markdown",
      "source": [
        "Detecting and remove data duplicated"
      ],
      "metadata": {
        "id": "ZyYE42Es1He_"
      }
    },
    {
      "cell_type": "code",
      "source": [
        "df.duplicated().sum()"
      ],
      "metadata": {
        "id": "6I_z1Oas0zui"
      },
      "execution_count": null,
      "outputs": []
    },
    {
      "cell_type": "code",
      "source": [
        "count_nv = pd.DataFrame(df.isnull().sum(), columns=['Total Null Data']).reset_index()\n",
        "count_nv['Percentage'] = ( count_nv['Total Null Data'] / len(df) ) * 100\n",
        "count_nv[count_nv['Percentage'] > 40].sort_values(by='Percentage', ascending=False)"
      ],
      "metadata": {
        "id": "AFKpeEEC1OR6"
      },
      "execution_count": null,
      "outputs": []
    },
    {
      "cell_type": "code",
      "source": [
        "data = list(count_nv[count_nv['Percentage'] > 40]['index'])\n",
        "df = df.drop(columns = data)\n",
        "df = df.drop(columns = 'SK_ID_CURR')"
      ],
      "metadata": {
        "id": "-DVAvod11bXr"
      },
      "execution_count": null,
      "outputs": []
    },
    {
      "cell_type": "code",
      "source": [
        "count_nv = pd.DataFrame(df.isnull().sum(), columns=['Total Null Data']).reset_index()\n",
        "count_nv['Percentage'] = ( count_nv['Total Null Data'] / len(df) ) * 100\n",
        "still_null = count_nv[count_nv['Percentage'] != 0].sort_values(by='Percentage', ascending=False)"
      ],
      "metadata": {
        "id": "0JbGNAPW1kod"
      },
      "execution_count": null,
      "outputs": []
    },
    {
      "cell_type": "code",
      "source": [
        "a = list(still_null['index'])\n",
        "df[a].dtypes\n",
        "\n",
        "for i in a:\n",
        "    data = df[i]\n",
        "    types = str(data.dtype)\n",
        "    if types == 'object':\n",
        "        df[i].fillna(df[i].mode()[0], inplace=True)\n",
        "    else:\n",
        "        df[i].fillna(df[i].median(), inplace=True)"
      ],
      "metadata": {
        "id": "9Ud9jvBA1mnh"
      },
      "execution_count": null,
      "outputs": []
    },
    {
      "cell_type": "code",
      "source": [
        "count_nv = pd.DataFrame(df.isnull().sum(), columns=['Total Null Data']).reset_index()\n",
        "count_nv['Percentage'] = ( count_nv['Total Null Data'] / len(df) ) * 100\n",
        "count_nv[count_nv['Percentage'] > 0].sort_values(by='Percentage', ascending=False)"
      ],
      "metadata": {
        "id": "h3Sk7Vul1oTb"
      },
      "execution_count": null,
      "outputs": []
    },
    {
      "cell_type": "markdown",
      "source": [
        "# Replace unknown value"
      ],
      "metadata": {
        "id": "k00AGUen1tkr"
      }
    },
    {
      "cell_type": "code",
      "source": [
        "df['CODE_GENDER'] = df['CODE_GENDER'].replace(['XNA'], df['CODE_GENDER'].mode()[0])\n",
        "df['ORGANIZATION_TYPE'] = df['ORGANIZATION_TYPE'].replace(['XNA'], df['ORGANIZATION_TYPE'].mode()[0])"
      ],
      "metadata": {
        "id": "FitF6xCh1pv4"
      },
      "execution_count": null,
      "outputs": []
    },
    {
      "cell_type": "markdown",
      "source": [
        "# Remove flag documents"
      ],
      "metadata": {
        "id": "5Qha0RH_1zZw"
      }
    },
    {
      "cell_type": "code",
      "source": [
        "FLAG_DOCUMENT = [col for col in df.columns if 'FLAG_DOCUMENT' in col]\n",
        "df.drop(columns = FLAG_DOCUMENT, axis=1, inplace=True)"
      ],
      "metadata": {
        "id": "v2rqJW7U1xFe"
      },
      "execution_count": null,
      "outputs": []
    },
    {
      "cell_type": "markdown",
      "source": [
        "# Feature Engineering"
      ],
      "metadata": {
        "id": "pxHJ-tBk13-1"
      }
    },
    {
      "cell_type": "code",
      "source": [
        "x = df.drop(columns = 'TARGET')"
      ],
      "metadata": {
        "id": "BF0K5aid12yl"
      },
      "execution_count": null,
      "outputs": []
    },
    {
      "cell_type": "markdown",
      "source": [
        "# Num dtype"
      ],
      "metadata": {
        "id": "wBsk7x_d2Bty"
      }
    },
    {
      "cell_type": "code",
      "source": [
        "num = x.select_dtypes(exclude='object')"
      ],
      "metadata": {
        "id": "i7nG9lcT2A4F"
      },
      "execution_count": null,
      "outputs": []
    },
    {
      "cell_type": "code",
      "source": [
        "num.head()"
      ],
      "metadata": {
        "id": "9gfgrsFS2IrL"
      },
      "execution_count": null,
      "outputs": []
    },
    {
      "cell_type": "markdown",
      "source": [
        "# Change neg value on columns to pos value"
      ],
      "metadata": {
        "id": "hYfGohP22Rv1"
      }
    },
    {
      "cell_type": "code",
      "source": [
        "neg_column = num.columns[(num < 0).any()].tolist()\n",
        "num[neg_column] = num[neg_column] * -1\n",
        "num.head()"
      ],
      "metadata": {
        "id": "FmOrSR0Z2Ktw"
      },
      "execution_count": null,
      "outputs": []
    },
    {
      "cell_type": "markdown",
      "source": [
        "# Look for a numeric data type that has a unique value > 2"
      ],
      "metadata": {
        "id": "jyBar3xN6NV1"
      }
    },
    {
      "cell_type": "code",
      "source": [
        "df_num = pd.DataFrame(num.nunique(), columns = ['Total_unique']).reset_index()\n",
        "df_num = df_num.rename(columns = {'index' : 'Name_of_column'})\n",
        "\n",
        "num_a = []\n",
        "num_b = []\n",
        "for i,y in enumerate(df_num.Name_of_column):\n",
        "    if df_num['Total_unique'][i] > 2:\n",
        "        num_a.append(y)\n",
        "    else:\n",
        "        num_b.append(y)"
      ],
      "metadata": {
        "id": "ymdf3_py2aJk"
      },
      "execution_count": null,
      "outputs": []
    },
    {
      "cell_type": "markdown",
      "source": [
        "# Data Distribution"
      ],
      "metadata": {
        "id": "WkK6XR-W6TB_"
      }
    },
    {
      "cell_type": "code",
      "source": [
        "plt.figure(figsize=(20,12))\n",
        "\n",
        "for i, column in enumerate (num[num_a].columns, 1):\n",
        "    plt.subplot(4,7,i)\n",
        "    sns.kdeplot(data=num[num_a], x=num[column])\n",
        "    plt.tight_layout()"
      ],
      "metadata": {
        "id": "itbjZJjG6Pul"
      },
      "execution_count": null,
      "outputs": []
    },
    {
      "cell_type": "code",
      "source": [
        "plt.figure(figsize=(20,12))\n",
        "\n",
        "for i, column in enumerate (num[num_a].columns, 1):\n",
        "    plt.subplot(7,4,i)\n",
        "    sns.boxplot(data=num[num_a], x=num[column])\n",
        "    plt.tight_layout()"
      ],
      "metadata": {
        "id": "ZT0i4UGs6Wfz"
      },
      "execution_count": null,
      "outputs": []
    },
    {
      "cell_type": "markdown",
      "source": [
        "# Remove and handling outlier"
      ],
      "metadata": {
        "id": "S7DEwGmN7P8P"
      }
    },
    {
      "cell_type": "code",
      "source": [
        "print(f'Row before delete outlier at CNT_children :  {len(df)}')\n",
        "\n",
        "filtered_entries = np.array([True] * len(df))\n",
        "\n",
        "zscore = abs(stats.zscore(df['CNT_CHILDREN']))\n",
        "filtered_entries = (zscore < 3) & filtered_entries\n",
        "\n",
        "df = df[filtered_entries]\n",
        "\n",
        "print(f'Row after delete outlier at CNT_children : {len(df)}')"
      ],
      "metadata": {
        "id": "1NGou3jP6j7M"
      },
      "execution_count": null,
      "outputs": []
    },
    {
      "cell_type": "markdown",
      "source": [
        "# Feature Transformation"
      ],
      "metadata": {
        "id": "78PJ9T3r7k6p"
      }
    },
    {
      "cell_type": "code",
      "source": [
        "x = df.drop(columns = 'TARGET', axis=1)\n",
        "num = x[num_a]"
      ],
      "metadata": {
        "id": "9cuH4c0z7T82"
      },
      "execution_count": null,
      "outputs": []
    },
    {
      "cell_type": "code",
      "source": [
        "num_mean = num.mean()\n",
        "num_std = num.std()\n",
        "\n",
        "num = (num - num_mean) / num_std\n",
        "num.head()"
      ],
      "metadata": {
        "id": "imVb0JFB7pld"
      },
      "execution_count": null,
      "outputs": []
    },
    {
      "cell_type": "code",
      "source": [
        "num_1 = x[num_b]\n",
        "num_1 = num_1.loc[~num_1.index.duplicated(keep='first')]\n",
        "\n",
        "num = pd.concat([num, num_1], axis=1)\n",
        "num"
      ],
      "metadata": {
        "id": "lgg5F8Ac7rNZ"
      },
      "execution_count": null,
      "outputs": []
    },
    {
      "cell_type": "markdown",
      "source": [
        "# Feature Transformation"
      ],
      "metadata": {
        "id": "iFDcVKgE7woL"
      }
    },
    {
      "cell_type": "code",
      "source": [
        "obj = x.select_dtypes(include='object')\n",
        "df_obj = pd.DataFrame(obj.nunique(), columns = ['Total_unique']).reset_index()\n",
        "df_obj = df_obj.rename(columns = {'index' : 'Name_of_column'})\n",
        "\n",
        "obj_1 = []\n",
        "obj_2 = []\n",
        "for i,y in enumerate(df_obj.Name_of_column):\n",
        "    if df_obj['Total_unique'][i] > 2:\n",
        "        obj_1.append(y)\n",
        "    else:\n",
        "        obj_2.append(y)\n",
        "obj\n"
      ],
      "metadata": {
        "id": "1k4zWWGU7uQV"
      },
      "execution_count": null,
      "outputs": []
    },
    {
      "cell_type": "markdown",
      "source": [
        "# One Hot Encoder"
      ],
      "metadata": {
        "id": "Jc9pAUGU74O4"
      }
    },
    {
      "cell_type": "code",
      "source": [
        "for cat in obj_1:\n",
        "    onehots = pd.get_dummies(obj[cat], prefix=cat)\n",
        "    obj = obj.join(onehots)\n",
        "\n",
        "obj = obj.drop(columns = obj_1)"
      ],
      "metadata": {
        "id": "XnONFL5470tQ"
      },
      "execution_count": null,
      "outputs": []
    },
    {
      "cell_type": "markdown",
      "source": [
        "# Label Encoder"
      ],
      "metadata": {
        "id": "2ymOjUPu8DBG"
      }
    },
    {
      "cell_type": "code",
      "source": [
        "# label_encoder object knows how to understand word labels.\n",
        "label_encoder = preprocessing.LabelEncoder()\n",
        "\n",
        "# Encode labels in column 'species'.\n",
        "for cat in obj_2:\n",
        "    obj[cat]= label_encoder.fit_transform(obj[cat])\n",
        "\n",
        "obj"
      ],
      "metadata": {
        "id": "oO31RRCh8BYx"
      },
      "execution_count": null,
      "outputs": []
    },
    {
      "cell_type": "code",
      "source": [
        "df_train = pd.concat([num, obj], axis=1)"
      ],
      "metadata": {
        "id": "uG0TFIrJ8Gk7"
      },
      "execution_count": null,
      "outputs": []
    },
    {
      "cell_type": "code",
      "source": [
        "df = pd.concat([df_train, df['TARGET']],axis=1)"
      ],
      "metadata": {
        "id": "jTeasKKd-dDI"
      },
      "execution_count": null,
      "outputs": []
    },
    {
      "cell_type": "markdown",
      "source": [
        "# Data Splitting"
      ],
      "metadata": {
        "id": "sVOaDu-4-guo"
      }
    },
    {
      "cell_type": "code",
      "source": [
        "x = df.drop(columns = 'TARGET')\n",
        "y = df['TARGET']"
      ],
      "metadata": {
        "id": "j-EQX5BA-eax"
      },
      "execution_count": null,
      "outputs": []
    },
    {
      "cell_type": "markdown",
      "source": [
        "# Oversampling"
      ],
      "metadata": {
        "id": "WMEqCHnH-nFZ"
      }
    },
    {
      "cell_type": "code",
      "source": [
        "sm = SMOTE(random_state = 2)\n",
        "x_over, y_over = sm.fit_resample(x, y.ravel())"
      ],
      "metadata": {
        "id": "TFPoah60-ln5"
      },
      "execution_count": null,
      "outputs": []
    },
    {
      "cell_type": "code",
      "source": [
        "X_train, X_test, y_train, y_test = train_test_split(x_over, y_over, test_size=0.3, random_state=42)"
      ],
      "metadata": {
        "id": "X27LfKPZ-ptc"
      },
      "execution_count": null,
      "outputs": []
    },
    {
      "cell_type": "markdown",
      "source": [
        "# Undersampling"
      ],
      "metadata": {
        "id": "TwJsSeT-_Da2"
      }
    },
    {
      "cell_type": "code",
      "source": [
        "rus = RandomUnderSampler(random_state=42)\n",
        "x_under, y_under = rus.fit_resample(x, y.ravel())"
      ],
      "metadata": {
        "id": "VFCj2sRS_CCp"
      },
      "execution_count": null,
      "outputs": []
    },
    {
      "cell_type": "code",
      "source": [
        "X_train2, X_test2, y_train2, y_test2 = train_test_split(x_under, y_under, test_size=0.3, random_state=42)\n"
      ],
      "metadata": {
        "id": "NIDp0OYc_Hpk"
      },
      "execution_count": null,
      "outputs": []
    },
    {
      "cell_type": "markdown",
      "source": [
        "# Train logistic regression"
      ],
      "metadata": {
        "id": "QnV0j-zo_KSR"
      }
    },
    {
      "cell_type": "code",
      "source": [
        "def confusionmatrix(predictions, y_test):\n",
        "    cm = confusion_matrix(y_test, predictions)\n",
        "    disp = ConfusionMatrixDisplay(confusion_matrix=cm)\n",
        "    return disp.plot()"
      ],
      "metadata": {
        "id": "-UUBHAxR_JJs"
      },
      "execution_count": null,
      "outputs": []
    },
    {
      "cell_type": "code",
      "source": [
        "logreg = LogisticRegression()\n",
        "logreg.fit(X_train, y_train.ravel())\n",
        "predictions = logreg.predict(X_test)\n",
        "\n",
        "# print classification report\n",
        "print(classification_report(y_test, predictions))\n",
        "confusionmatrix(predictions, y_test)"
      ],
      "metadata": {
        "id": "RYNnJKlr_Pou"
      },
      "execution_count": null,
      "outputs": []
    },
    {
      "cell_type": "markdown",
      "source": [
        "# Undersampling data"
      ],
      "metadata": {
        "id": "O0Wbfy6Z_3cZ"
      }
    },
    {
      "cell_type": "code",
      "source": [
        "logreg1 = LogisticRegression()\n",
        "logreg1.fit(X_train2, y_train2)\n",
        "predictions2 = logreg1.predict(X_test2)\n",
        "\n",
        "# print classification report\n",
        "print(classification_report(y_test2, predictions2))\n",
        "confusionmatrix(predictions2, y_test2)"
      ],
      "metadata": {
        "id": "vc4nEqnY_XzD"
      },
      "execution_count": null,
      "outputs": []
    },
    {
      "cell_type": "code",
      "source": [
        "predictions = logreg1.predict(X_train2)\n",
        "\n",
        "# print classification report\n",
        "print(classification_report(y_train2, predictions))\n",
        "confusionmatrix(predictions, y_train2)"
      ],
      "metadata": {
        "id": "Uq0r45VMACd-"
      },
      "execution_count": null,
      "outputs": []
    },
    {
      "cell_type": "markdown",
      "source": [
        "# XGBoost model training"
      ],
      "metadata": {
        "id": "VE_MpvyPAPcr"
      }
    },
    {
      "cell_type": "code",
      "source": [
        "xgb = xgb.XGBClassifier(objective=\"binary:logistic\", random_state=42)\n",
        "xgb.fit(X_train, y_train.ravel())\n",
        "\n",
        "predictions = xgb.predict(X_test)\n",
        "\n",
        "# print classification report\n",
        "print(classification_report(y_test, predictions))\n",
        "confusionmatrix(predictions, y_test)"
      ],
      "metadata": {
        "id": "GykMbSBrANEX"
      },
      "execution_count": null,
      "outputs": []
    },
    {
      "cell_type": "code",
      "source": [
        "predictions = xgb.predict(X_train)\n",
        "\n",
        "# print classification report\n",
        "print(classification_report(y_train, predictions))\n",
        "confusionmatrix(predictions, y_train)"
      ],
      "metadata": {
        "id": "Uvl-wcCrAZTX"
      },
      "execution_count": null,
      "outputs": []
    },
    {
      "cell_type": "markdown",
      "source": [
        "# Random Forest Modelling"
      ],
      "metadata": {
        "id": "9-z37nTbCOh2"
      }
    },
    {
      "cell_type": "code",
      "source": [
        "rforest = RandomForestClassifier().fit(X_train, y_train)\n",
        "predictions = rforest.predict(X_test)\n",
        "\n",
        "# print classification report\n",
        "print(classification_report(y_test, predictions))\n",
        "confusionmatrix(predictions, y_test)"
      ],
      "metadata": {
        "id": "deSnWHmZCFKN"
      },
      "execution_count": null,
      "outputs": []
    },
    {
      "cell_type": "code",
      "source": [
        "predictions = rforest.predict(X_train)\n",
        "\n",
        "# print classification report\n",
        "print(classification_report(y_train, predictions))\n",
        "confusionmatrix(predictions, y_train)"
      ],
      "metadata": {
        "id": "xEEnNzGLCXC-"
      },
      "execution_count": null,
      "outputs": []
    },
    {
      "cell_type": "markdown",
      "source": [
        "# Prediction"
      ],
      "metadata": {
        "id": "MtGKCllpC6HD"
      }
    },
    {
      "cell_type": "code",
      "source": [
        "df_test = pd.read_csv('application_test.csv')\n",
        "df_test.head()"
      ],
      "metadata": {
        "id": "FmUXK1GcCgp2"
      },
      "execution_count": null,
      "outputs": []
    },
    {
      "cell_type": "code",
      "source": [
        "df_test['CODE_GENDER'] = df_test['CODE_GENDER'].replace(['XNA'], df_test['CODE_GENDER'].mode()[0])\n",
        "df_test['ORGANIZATION_TYPE'] = df_test['ORGANIZATION_TYPE'].replace(['XNA'], df_test['ORGANIZATION_TYPE'].mode()[0])\n",
        "\n",
        "Marital_status = []\n",
        "married = ['Married', 'Single']\n",
        "\n",
        "for i in df_test.NAME_FAMILY_STATUS:\n",
        "    if i in married:\n",
        "        Marital_status.append('Married')\n",
        "    else:\n",
        "        Marital_status.append('Single')\n",
        "\n",
        "df_test['Marital_status'] = Marital_status\n",
        "df_test.drop(columns= 'NAME_FAMILY_STATUS', inplace=True)\n",
        "\n",
        "df_test['Age'] = np.floor(df_test['DAYS_BIRTH'] / -365).astype(int)\n",
        "df_test.drop(columns= 'DAYS_BIRTH', inplace=True)"
      ],
      "metadata": {
        "id": "kt5yNGbEFddV"
      },
      "execution_count": null,
      "outputs": []
    },
    {
      "cell_type": "code",
      "source": [
        "count_nv = pd.DataFrame(df_test.isnull().sum(), columns=['Total Null Data']).reset_index()\n",
        "count_nv['Percentage'] = ( count_nv['Total Null Data'] / len(df) ) * 100\n",
        "still_null = count_nv[count_nv['Percentage'] > 0].sort_values(by='Percentage', ascending=False)"
      ],
      "metadata": {
        "id": "TLCimbK_5VSx"
      },
      "execution_count": null,
      "outputs": []
    },
    {
      "cell_type": "code",
      "source": [
        "a = list(still_null['index'])\n",
        "\n",
        "for i in a:\n",
        "    data = df_test[i]\n",
        "    types = str(data.dtype)\n",
        "    if types == 'object':\n",
        "        df_test[i].fillna(df_test[i].mode()[0], inplace=True)\n",
        "    else:\n",
        "        df_test[i].fillna(df_test[i].median(), inplace=True)"
      ],
      "metadata": {
        "id": "RCLbaoJX5Z4m"
      },
      "execution_count": null,
      "outputs": []
    },
    {
      "cell_type": "code",
      "source": [
        "num = df_test[num_a]"
      ],
      "metadata": {
        "id": "ZEkEQfFx5dhS"
      },
      "execution_count": null,
      "outputs": []
    },
    {
      "cell_type": "code",
      "source": [
        "num = (num - num_mean) / num_std\n",
        "num.head()"
      ],
      "metadata": {
        "id": "obcdwaZK5n11"
      },
      "execution_count": null,
      "outputs": []
    },
    {
      "cell_type": "code",
      "source": [
        "num_1 = df_test[num_b]\n",
        "num_1 = num_1.loc[~num_1.index.duplicated(keep='first')]\n",
        "\n",
        "num = pd.concat([num, num_1], axis=1)\n",
        "num"
      ],
      "metadata": {
        "id": "xXlH9T5n5rYl"
      },
      "execution_count": null,
      "outputs": []
    },
    {
      "cell_type": "code",
      "source": [
        "obj = df_test.select_dtypes(include='object')\n",
        "\n",
        "for cat in obj_1:\n",
        "    onehots = pd.get_dummies(obj[cat], prefix=cat)\n",
        "    obj = obj.join(onehots)\n",
        "\n",
        "obj = obj.drop(columns = obj_1)"
      ],
      "metadata": {
        "id": "VsHuZZAj512I"
      },
      "execution_count": null,
      "outputs": []
    },
    {
      "cell_type": "code",
      "source": [
        "# label_encoder object knows how to understand word labels.\n",
        "label_encoder = preprocessing.LabelEncoder()\n",
        "\n",
        "# Encode labels in column 'species'.\n",
        "for cat in obj_2:\n",
        "    obj[cat]= label_encoder.fit_transform(obj[cat])\n",
        "\n",
        "obj"
      ],
      "metadata": {
        "id": "vtO8aQab54wG"
      },
      "execution_count": null,
      "outputs": []
    },
    {
      "cell_type": "code",
      "source": [
        "df_test = pd.concat([num, obj], axis=1)"
      ],
      "metadata": {
        "id": "oS2t3CjI56k6"
      },
      "execution_count": null,
      "outputs": []
    },
    {
      "cell_type": "code",
      "source": [
        "train = set(df.columns)"
      ],
      "metadata": {
        "id": "XmqESJIs8r4Y"
      },
      "execution_count": null,
      "outputs": []
    },
    {
      "cell_type": "code",
      "source": [
        "train.remove('TARGET')"
      ],
      "metadata": {
        "id": "dLj9HELU8ul2"
      },
      "execution_count": null,
      "outputs": []
    },
    {
      "cell_type": "code",
      "source": [
        "not_in_test = train - set(df_test.columns)\n",
        "not_in_test = list(not_in_test)"
      ],
      "metadata": {
        "id": "9oJ6k84I8wPT"
      },
      "execution_count": null,
      "outputs": []
    },
    {
      "cell_type": "code",
      "source": [
        "df_test[not_in_test] = 0"
      ],
      "metadata": {
        "id": "y-feJEV08x-L"
      },
      "execution_count": null,
      "outputs": []
    },
    {
      "cell_type": "code",
      "source": [
        "column_train = list(df.columns)\n",
        "column_train.remove('TARGET')\n",
        "df_test = df_test[column_train]"
      ],
      "metadata": {
        "id": "uR8o0RR58zjC"
      },
      "execution_count": null,
      "outputs": []
    },
    {
      "cell_type": "code",
      "source": [
        "predictions = rforest.predict(df_test)"
      ],
      "metadata": {
        "id": "YHfFDGu782bz"
      },
      "execution_count": null,
      "outputs": []
    },
    {
      "cell_type": "code",
      "source": [
        "df_test['TARGET'] = predictions"
      ],
      "metadata": {
        "id": "yUjEAAxH84Ho"
      },
      "execution_count": null,
      "outputs": []
    },
    {
      "cell_type": "code",
      "source": [
        "df_test['TARGET'].value_counts()"
      ],
      "metadata": {
        "id": "lWkJwzpI9BFi"
      },
      "execution_count": null,
      "outputs": []
    }
  ]
}